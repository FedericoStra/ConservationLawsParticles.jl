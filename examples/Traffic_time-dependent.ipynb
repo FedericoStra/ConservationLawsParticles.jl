{
 "cells": [
  {
   "cell_type": "markdown",
   "id": "dbea5735-8490-4bc2-9221-4c2586c8a390",
   "metadata": {
    "tags": []
   },
   "source": [
    "# Traffic example with time-dependent external velocity"
   ]
  },
  {
   "cell_type": "markdown",
   "id": "8cffb48b-5d27-4932-b923-4f2c7119c853",
   "metadata": {},
   "source": [
    "Import the necessary packages."
   ]
  },
  {
   "cell_type": "code",
   "execution_count": null,
   "id": "4c03e554-ed69-470f-b0a0-4dfa9aa2c062",
   "metadata": {},
   "outputs": [],
   "source": [
    "using ConservationLawsParticles\n",
    "using RecursiveArrayTools, DifferentialEquations, Plots"
   ]
  },
  {
   "cell_type": "markdown",
   "id": "20c26f37-af99-4e65-bb6b-fcfca0f6879b",
   "metadata": {
    "tags": []
   },
   "source": [
    "## Define the model\n",
    "\n",
    "- The external velocity is constant and directed to the right.\n",
    "- The interaction is repulsive at small scales and attractive at long range.\n",
    "- The mobility models total congestion when the density reaches $1$."
   ]
  },
  {
   "cell_type": "markdown",
   "id": "390d4e48-a00d-4bab-b36a-dab71e78bd22",
   "metadata": {},
   "source": [
    "$$\n",
    "\\begin{aligned}\n",
    "V(x) &= [1 + 0.2\\sin(t)] \\cdot [1 + 0.2\\cos(3x+t)] \\\\\n",
    "W(x) &= \\frac1{(|x|+1)^2} - \\frac1{|x|+1} + 0.02x^2 \\\\\n",
    "\\mathop{\\mathrm{mob}}(\\rho) &= (1-\\rho)_+^2\n",
    "\\end{aligned}\n",
    "$$"
   ]
  },
  {
   "cell_type": "code",
   "execution_count": null,
   "id": "d9ed913a-78e2-4eba-834e-5237c91782f0",
   "metadata": {},
   "outputs": [],
   "source": [
    "V(t, x) = (1 + 0.2sin(t)) * (1 + 0.2cos(3x + t))\n",
    "@time_independent W(x) = 1/(abs(x)+1)^2 - 1/(abs(x)+1) + .05x^2\n",
    "mob(ρ) = max(1 - ρ, 0)^2\n",
    "\n",
    "model = IntegratedModel((V,), ((W,),), (mob,))\n",
    "\n",
    "plot(W, -4, 4, title=\"Interaction\", label=\"W\")"
   ]
  },
  {
   "cell_type": "markdown",
   "id": "5c93ebc0-97b8-4065-973c-f424b5ca0868",
   "metadata": {},
   "source": [
    "## Define the ODE problem and the initial conditions"
   ]
  },
  {
   "cell_type": "markdown",
   "id": "0816d66c-3a03-4d84-8a17-cfb2b5afd6a8",
   "metadata": {},
   "source": [
    "The initial condition approximates $\\rho_0 = 1_{[-1,-1/2]} + 1_{[1/2,1]}$."
   ]
  },
  {
   "cell_type": "code",
   "execution_count": null,
   "id": "c877f63d-39c9-4b87-b9eb-f92d5bc830a8",
   "metadata": {},
   "outputs": [],
   "source": [
    "n = 25\n",
    "x0 = ArrayPartition(vcat(range(-1, -.5, length=n), range(.5, 1, length=n)))\n",
    "\n",
    "tspan = (0., 20.)\n",
    "\n",
    "prob = ODEProblem(velocities_gen!, x0, tspan, model)"
   ]
  },
  {
   "cell_type": "markdown",
   "id": "ecf6146b-e7f5-4992-80bd-dad5c75179d8",
   "metadata": {},
   "source": [
    "## Solve the ODE"
   ]
  },
  {
   "cell_type": "code",
   "execution_count": null,
   "id": "cb79e070-93e0-4baf-923d-0c42e99aafa0",
   "metadata": {},
   "outputs": [],
   "source": [
    "abstol, reltol = 1e-7, 1e-7\n",
    "\n",
    "@time sol = solve(prob, BS5(); abstol=abstol, reltol=reltol)\n",
    "\n",
    "length(sol)"
   ]
  },
  {
   "cell_type": "code",
   "execution_count": null,
   "id": "66d26e3d-a954-480a-97d5-30638c0878ec",
   "metadata": {},
   "outputs": [],
   "source": [
    "plot(title=\"Traffic trajectories\", legend=false)\n",
    "plot!(sol; color=:blue)\n",
    "plot!(xlabel=\"time\", ylabel=\"space\")\n",
    "savefig(\"plots/trajectories2.png\")\n",
    "plot!()"
   ]
  },
  {
   "cell_type": "markdown",
   "id": "40134755-a092-4b77-a2cf-dbce13ed8aaf",
   "metadata": {},
   "source": [
    "## Plot the density\n",
    "\n",
    "Let us first compute a more refined solution."
   ]
  },
  {
   "cell_type": "code",
   "execution_count": null,
   "id": "8dd359d0-272c-43cd-b02d-c7e993d8463f",
   "metadata": {},
   "outputs": [],
   "source": [
    "n = 201\n",
    "x0 = ArrayPartition(vcat(range(-1, -.5, length=n), range(.5, 1, length=n)))\n",
    "tspan = (0, 20.)\n",
    "prob = ODEProblem(velocities_gen!, x0, tspan, model)\n",
    "\n",
    "abstol, reltol = .5e-7, .5e-7\n",
    "\n",
    "@time sol = solve(prob, BS5(); abstol=abstol, reltol=reltol)\n",
    "\n",
    "length(sol)"
   ]
  },
  {
   "cell_type": "markdown",
   "id": "ded100ba-6b4a-4915-9c7d-c5009337196b",
   "metadata": {},
   "source": [
    "Now we can plot an animation of the density."
   ]
  },
  {
   "cell_type": "code",
   "execution_count": null,
   "id": "c81be644-9d11-472c-afb3-1d70e7a62fd4",
   "metadata": {
    "tags": []
   },
   "outputs": [],
   "source": [
    "anim = @animate for t in range(tspan..., step=1/24)\n",
    "    plot_density(sol(t); legend=false, xrange=(-1, 15), yrange=(0, 1),\n",
    "        title=\"Traffic density\", xlabel=\"position\", ylabel=\"density\")\n",
    "end\n",
    "gif(anim, \"plots/traffic2.gif\")"
   ]
  },
  {
   "cell_type": "markdown",
   "id": "b35e7382-056c-4e2e-9d2e-b01986b544d6",
   "metadata": {},
   "source": [
    "We can translate the particles so that the barycenter stays at the origin."
   ]
  },
  {
   "cell_type": "code",
   "execution_count": null,
   "id": "f098a0eb-6326-4ffd-97f0-0d0435127278",
   "metadata": {},
   "outputs": [],
   "source": [
    "barycenter(x::AbstractVector) = (sum(x) - (x[1] + x[end]) / 2) / (length(x) - 1)\n",
    "recenter(x::AbstractVector) = x .- barycenter(x)"
   ]
  },
  {
   "cell_type": "code",
   "execution_count": null,
   "id": "6489e9b5-b1e8-4acf-b0ea-4e2c83efb0cf",
   "metadata": {},
   "outputs": [],
   "source": [
    "anim = @animate for t in range(tspan..., step=1/24)\n",
    "    plot_density(recenter(sol(t)); legend=false, xrange=(-3, 4), yrange=(0, 1),\n",
    "        title=\"Traffic density (centered)\", xlabel=\"position\", ylabel=\"density\")\n",
    "end\n",
    "gif(anim, \"plots/traffic_centered2.gif\")"
   ]
  }
 ],
 "metadata": {
  "kernelspec": {
   "display_name": "Julia 1.6.1",
   "language": "julia",
   "name": "julia-1.6"
  },
  "language_info": {
   "file_extension": ".jl",
   "mimetype": "application/julia",
   "name": "julia",
   "version": "1.6.1"
  }
 },
 "nbformat": 4,
 "nbformat_minor": 5
}
